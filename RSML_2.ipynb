{
  "nbformat": 4,
  "nbformat_minor": 0,
  "metadata": {
    "colab": {
      "provenance": []
    },
    "kernelspec": {
      "name": "python3",
      "display_name": "Python 3"
    },
    "language_info": {
      "name": "python"
    }
  },
  "cells": [
    {
      "cell_type": "code",
      "source": [
        "import pandas as pd\n",
        "from surprise import Dataset, accuracy, Reader\n",
        "from surprise.model_selection import cross_validate, train_test_split, GridSearchCV\n",
        "from surprise import KNNWithMeans, KNNBasic, KNNWithZScore, KNNBaseline"
      ],
      "metadata": {
        "id": "Sy29TfCkJ5Ex"
      },
      "execution_count": null,
      "outputs": []
    },
    {
      "cell_type": "code",
      "source": [
        "movies = pd.read_csv('movies.csv')\n",
        "ratings = pd.read_csv('ratings.csv')"
      ],
      "metadata": {
        "id": "Ry4epCD2KqqF"
      },
      "execution_count": null,
      "outputs": []
    },
    {
      "cell_type": "code",
      "source": [
        "mr = movies.merge(ratings, how='inner', on='movieId').reset_index(drop=True)\n",
        "mr.dropna(inplace=True)\n",
        "mr.head()"
      ],
      "metadata": {
        "colab": {
          "base_uri": "https://localhost:8080/",
          "height": 206
        },
        "id": "plQ_w0jMLXqN",
        "outputId": "fa94c937-397a-4bc6-f9de-57467acb87cd"
      },
      "execution_count": null,
      "outputs": [
        {
          "output_type": "execute_result",
          "data": {
            "text/plain": [
              "   movieId             title                                       genres  \\\n",
              "0        1  Toy Story (1995)  Adventure|Animation|Children|Comedy|Fantasy   \n",
              "1        1  Toy Story (1995)  Adventure|Animation|Children|Comedy|Fantasy   \n",
              "2        1  Toy Story (1995)  Adventure|Animation|Children|Comedy|Fantasy   \n",
              "3        1  Toy Story (1995)  Adventure|Animation|Children|Comedy|Fantasy   \n",
              "4        1  Toy Story (1995)  Adventure|Animation|Children|Comedy|Fantasy   \n",
              "\n",
              "   userId  rating   timestamp  \n",
              "0       1     4.0   964982703  \n",
              "1       5     4.0   847434962  \n",
              "2       7     4.5  1106635946  \n",
              "3      15     2.5  1510577970  \n",
              "4      17     4.5  1305696483  "
            ],
            "text/html": [
              "\n",
              "  <div id=\"df-c8517062-a92d-4ae2-b344-15dbd0a3c9a2\">\n",
              "    <div class=\"colab-df-container\">\n",
              "      <div>\n",
              "<style scoped>\n",
              "    .dataframe tbody tr th:only-of-type {\n",
              "        vertical-align: middle;\n",
              "    }\n",
              "\n",
              "    .dataframe tbody tr th {\n",
              "        vertical-align: top;\n",
              "    }\n",
              "\n",
              "    .dataframe thead th {\n",
              "        text-align: right;\n",
              "    }\n",
              "</style>\n",
              "<table border=\"1\" class=\"dataframe\">\n",
              "  <thead>\n",
              "    <tr style=\"text-align: right;\">\n",
              "      <th></th>\n",
              "      <th>movieId</th>\n",
              "      <th>title</th>\n",
              "      <th>genres</th>\n",
              "      <th>userId</th>\n",
              "      <th>rating</th>\n",
              "      <th>timestamp</th>\n",
              "    </tr>\n",
              "  </thead>\n",
              "  <tbody>\n",
              "    <tr>\n",
              "      <th>0</th>\n",
              "      <td>1</td>\n",
              "      <td>Toy Story (1995)</td>\n",
              "      <td>Adventure|Animation|Children|Comedy|Fantasy</td>\n",
              "      <td>1</td>\n",
              "      <td>4.0</td>\n",
              "      <td>964982703</td>\n",
              "    </tr>\n",
              "    <tr>\n",
              "      <th>1</th>\n",
              "      <td>1</td>\n",
              "      <td>Toy Story (1995)</td>\n",
              "      <td>Adventure|Animation|Children|Comedy|Fantasy</td>\n",
              "      <td>5</td>\n",
              "      <td>4.0</td>\n",
              "      <td>847434962</td>\n",
              "    </tr>\n",
              "    <tr>\n",
              "      <th>2</th>\n",
              "      <td>1</td>\n",
              "      <td>Toy Story (1995)</td>\n",
              "      <td>Adventure|Animation|Children|Comedy|Fantasy</td>\n",
              "      <td>7</td>\n",
              "      <td>4.5</td>\n",
              "      <td>1106635946</td>\n",
              "    </tr>\n",
              "    <tr>\n",
              "      <th>3</th>\n",
              "      <td>1</td>\n",
              "      <td>Toy Story (1995)</td>\n",
              "      <td>Adventure|Animation|Children|Comedy|Fantasy</td>\n",
              "      <td>15</td>\n",
              "      <td>2.5</td>\n",
              "      <td>1510577970</td>\n",
              "    </tr>\n",
              "    <tr>\n",
              "      <th>4</th>\n",
              "      <td>1</td>\n",
              "      <td>Toy Story (1995)</td>\n",
              "      <td>Adventure|Animation|Children|Comedy|Fantasy</td>\n",
              "      <td>17</td>\n",
              "      <td>4.5</td>\n",
              "      <td>1305696483</td>\n",
              "    </tr>\n",
              "  </tbody>\n",
              "</table>\n",
              "</div>\n",
              "      <button class=\"colab-df-convert\" onclick=\"convertToInteractive('df-c8517062-a92d-4ae2-b344-15dbd0a3c9a2')\"\n",
              "              title=\"Convert this dataframe to an interactive table.\"\n",
              "              style=\"display:none;\">\n",
              "        \n",
              "  <svg xmlns=\"http://www.w3.org/2000/svg\" height=\"24px\"viewBox=\"0 0 24 24\"\n",
              "       width=\"24px\">\n",
              "    <path d=\"M0 0h24v24H0V0z\" fill=\"none\"/>\n",
              "    <path d=\"M18.56 5.44l.94 2.06.94-2.06 2.06-.94-2.06-.94-.94-2.06-.94 2.06-2.06.94zm-11 1L8.5 8.5l.94-2.06 2.06-.94-2.06-.94L8.5 2.5l-.94 2.06-2.06.94zm10 10l.94 2.06.94-2.06 2.06-.94-2.06-.94-.94-2.06-.94 2.06-2.06.94z\"/><path d=\"M17.41 7.96l-1.37-1.37c-.4-.4-.92-.59-1.43-.59-.52 0-1.04.2-1.43.59L10.3 9.45l-7.72 7.72c-.78.78-.78 2.05 0 2.83L4 21.41c.39.39.9.59 1.41.59.51 0 1.02-.2 1.41-.59l7.78-7.78 2.81-2.81c.8-.78.8-2.07 0-2.86zM5.41 20L4 18.59l7.72-7.72 1.47 1.35L5.41 20z\"/>\n",
              "  </svg>\n",
              "      </button>\n",
              "      \n",
              "  <style>\n",
              "    .colab-df-container {\n",
              "      display:flex;\n",
              "      flex-wrap:wrap;\n",
              "      gap: 12px;\n",
              "    }\n",
              "\n",
              "    .colab-df-convert {\n",
              "      background-color: #E8F0FE;\n",
              "      border: none;\n",
              "      border-radius: 50%;\n",
              "      cursor: pointer;\n",
              "      display: none;\n",
              "      fill: #1967D2;\n",
              "      height: 32px;\n",
              "      padding: 0 0 0 0;\n",
              "      width: 32px;\n",
              "    }\n",
              "\n",
              "    .colab-df-convert:hover {\n",
              "      background-color: #E2EBFA;\n",
              "      box-shadow: 0px 1px 2px rgba(60, 64, 67, 0.3), 0px 1px 3px 1px rgba(60, 64, 67, 0.15);\n",
              "      fill: #174EA6;\n",
              "    }\n",
              "\n",
              "    [theme=dark] .colab-df-convert {\n",
              "      background-color: #3B4455;\n",
              "      fill: #D2E3FC;\n",
              "    }\n",
              "\n",
              "    [theme=dark] .colab-df-convert:hover {\n",
              "      background-color: #434B5C;\n",
              "      box-shadow: 0px 1px 3px 1px rgba(0, 0, 0, 0.15);\n",
              "      filter: drop-shadow(0px 1px 2px rgba(0, 0, 0, 0.3));\n",
              "      fill: #FFFFFF;\n",
              "    }\n",
              "  </style>\n",
              "\n",
              "      <script>\n",
              "        const buttonEl =\n",
              "          document.querySelector('#df-c8517062-a92d-4ae2-b344-15dbd0a3c9a2 button.colab-df-convert');\n",
              "        buttonEl.style.display =\n",
              "          google.colab.kernel.accessAllowed ? 'block' : 'none';\n",
              "\n",
              "        async function convertToInteractive(key) {\n",
              "          const element = document.querySelector('#df-c8517062-a92d-4ae2-b344-15dbd0a3c9a2');\n",
              "          const dataTable =\n",
              "            await google.colab.kernel.invokeFunction('convertToInteractive',\n",
              "                                                     [key], {});\n",
              "          if (!dataTable) return;\n",
              "\n",
              "          const docLinkHtml = 'Like what you see? Visit the ' +\n",
              "            '<a target=\"_blank\" href=https://colab.research.google.com/notebooks/data_table.ipynb>data table notebook</a>'\n",
              "            + ' to learn more about interactive tables.';\n",
              "          element.innerHTML = '';\n",
              "          dataTable['output_type'] = 'display_data';\n",
              "          await google.colab.output.renderOutput(dataTable, element);\n",
              "          const docLink = document.createElement('div');\n",
              "          docLink.innerHTML = docLinkHtml;\n",
              "          element.appendChild(docLink);\n",
              "        }\n",
              "      </script>\n",
              "    </div>\n",
              "  </div>\n",
              "  "
            ]
          },
          "metadata": {},
          "execution_count": 17
        }
      ]
    },
    {
      "cell_type": "code",
      "source": [
        "mr.rating.min(), mr.rating.max()"
      ],
      "metadata": {
        "colab": {
          "base_uri": "https://localhost:8080/"
        },
        "id": "d_HDBVEsaW17",
        "outputId": "b8509bd2-acff-4f7e-938a-20531bd28d9b"
      },
      "execution_count": null,
      "outputs": [
        {
          "output_type": "execute_result",
          "data": {
            "text/plain": [
              "(0.5, 5.0)"
            ]
          },
          "metadata": {},
          "execution_count": 30
        }
      ]
    },
    {
      "cell_type": "code",
      "source": [
        "reader = Reader(rating_scale=(0.5, 5))"
      ],
      "metadata": {
        "id": "8qoD96iySwDA"
      },
      "execution_count": null,
      "outputs": []
    },
    {
      "cell_type": "code",
      "source": [
        "df = pd.DataFrame(\n",
        "    {\n",
        "        'uid': mr['userId'],\n",
        "        'title': mr['title'],\n",
        "        'rating': mr['rating']\n",
        "    }\n",
        ")"
      ],
      "metadata": {
        "id": "eGhv_srNTRoR"
      },
      "execution_count": null,
      "outputs": []
    },
    {
      "cell_type": "code",
      "source": [
        "data = Dataset.load_from_df(df, reader)"
      ],
      "metadata": {
        "id": "XTqlIEhyaDp1"
      },
      "execution_count": null,
      "outputs": []
    },
    {
      "cell_type": "code",
      "source": [
        "params = {'k': 50, 'min_k': 5, 'sim_options': {\n",
        "          'name': 'cosine',\n",
        "          'user_based': True}}\n",
        "\n",
        "params_2 = {'k': 50, 'min_k': 5, 'sim_options': {\n",
        "          'name': 'cosine',\n",
        "          'user_based': False}}\n",
        "\n",
        "algo = [KNNWithMeans, KNNBasic, KNNWithZScore, KNNBaseline]"
      ],
      "metadata": {
        "id": "fh0l0r_ikPjq"
      },
      "execution_count": null,
      "outputs": []
    },
    {
      "cell_type": "markdown",
      "source": [
        "## Base line algo"
      ],
      "metadata": {
        "id": "RSbB_pbK7anE"
      }
    },
    {
      "cell_type": "code",
      "source": [
        "def tt_algo(algo, params):\n",
        "  dict_ = {}\n",
        "  for al in algo:\n",
        "    train, test = train_test_split(data, test_size=0.2)\n",
        "    a = al(**params)\n",
        "    a.fit(train)\n",
        "    a.test(test)\n",
        "    acc = accuracy.rmse(a.test(test), verbose=True)\n",
        "    dict_[al] = acc\n",
        "  return dict_"
      ],
      "metadata": {
        "id": "FpweuVwu7ZwC"
      },
      "execution_count": null,
      "outputs": []
    },
    {
      "cell_type": "code",
      "source": [
        "print(tt_algo(algo, params))"
      ],
      "metadata": {
        "colab": {
          "base_uri": "https://localhost:8080/"
        },
        "id": "fHnXcpx_7aOr",
        "outputId": "e54e1765-2f1d-4857-b90c-f9a5db04143d"
      },
      "execution_count": null,
      "outputs": [
        {
          "output_type": "stream",
          "name": "stdout",
          "text": [
            "Computing the cosine similarity matrix...\n",
            "Done computing similarity matrix.\n",
            "RMSE: 0.9012\n",
            "Computing the cosine similarity matrix...\n",
            "Done computing similarity matrix.\n",
            "RMSE: 0.9777\n",
            "Computing the cosine similarity matrix...\n",
            "Done computing similarity matrix.\n",
            "RMSE: 0.8927\n",
            "Estimating biases using als...\n",
            "Computing the cosine similarity matrix...\n",
            "Done computing similarity matrix.\n",
            "RMSE: 0.8648\n",
            "{<class 'surprise.prediction_algorithms.knns.KNNWithMeans'>: 0.9011700930061269, <class 'surprise.prediction_algorithms.knns.KNNBasic'>: 0.9776822748178199, <class 'surprise.prediction_algorithms.knns.KNNWithZScore'>: 0.8926903447836868, <class 'surprise.prediction_algorithms.knns.KNNBaseline'>: 0.8648253351695603}\n"
          ]
        }
      ]
    },
    {
      "cell_type": "code",
      "source": [
        "print(tt_algo(algo, params_2))"
      ],
      "metadata": {
        "colab": {
          "base_uri": "https://localhost:8080/"
        },
        "id": "cQwrMAZc8bhk",
        "outputId": "49bb5c99-b298-4ac0-f7b3-944bafa7bce4"
      },
      "execution_count": null,
      "outputs": [
        {
          "output_type": "stream",
          "name": "stdout",
          "text": [
            "Computing the cosine similarity matrix...\n",
            "Done computing similarity matrix.\n",
            "RMSE: 0.8976\n",
            "Computing the cosine similarity matrix...\n",
            "Done computing similarity matrix.\n",
            "RMSE: 0.9760\n",
            "Computing the cosine similarity matrix...\n",
            "Done computing similarity matrix.\n",
            "RMSE: 0.9138\n",
            "Estimating biases using als...\n",
            "Computing the cosine similarity matrix...\n",
            "Done computing similarity matrix.\n",
            "RMSE: 0.8882\n",
            "{<class 'surprise.prediction_algorithms.knns.KNNWithMeans'>: 0.8975770023920917, <class 'surprise.prediction_algorithms.knns.KNNBasic'>: 0.9760449334772625, <class 'surprise.prediction_algorithms.knns.KNNWithZScore'>: 0.913788298222136, <class 'surprise.prediction_algorithms.knns.KNNBaseline'>: 0.8882051000416672}\n"
          ]
        }
      ]
    },
    {
      "cell_type": "markdown",
      "source": [
        "## Cross algo"
      ],
      "metadata": {
        "id": "ZFvsFM8g7eAy"
      }
    },
    {
      "cell_type": "code",
      "source": [
        "def knn_baseline(data, algo: list, params: dict):\n",
        "  for alg in algo:\n",
        "    print(alg)\n",
        "    print(cross_validate(alg(**params), data, measures=[\"RMSE\"], cv=5, verbose=False))\n",
        "    print('----'*20)"
      ],
      "metadata": {
        "id": "gqrHifddi9Tf"
      },
      "execution_count": null,
      "outputs": []
    },
    {
      "cell_type": "code",
      "source": [
        "knn_baseline(data, algo, params)"
      ],
      "metadata": {
        "colab": {
          "base_uri": "https://localhost:8080/"
        },
        "id": "-3ljSJQ4arNW",
        "outputId": "090e0f4e-0858-4cc2-b27a-18cbeb396df8"
      },
      "execution_count": null,
      "outputs": [
        {
          "output_type": "stream",
          "name": "stdout",
          "text": [
            "<class 'surprise.prediction_algorithms.knns.KNNWithMeans'>\n",
            "Computing the cosine similarity matrix...\n",
            "Done computing similarity matrix.\n",
            "Computing the cosine similarity matrix...\n",
            "Done computing similarity matrix.\n",
            "Computing the cosine similarity matrix...\n",
            "Done computing similarity matrix.\n",
            "Computing the cosine similarity matrix...\n",
            "Done computing similarity matrix.\n",
            "Computing the cosine similarity matrix...\n",
            "Done computing similarity matrix.\n",
            "{'test_rmse': array([0.89131824, 0.89414596, 0.89751729, 0.89234154, 0.90581838]), 'fit_time': (0.1948685646057129, 0.20676779747009277, 0.330747127532959, 0.20074892044067383, 0.2164161205291748), 'test_time': (2.1845476627349854, 2.681842088699341, 2.068533420562744, 2.1635704040527344, 1.978421688079834)}\n",
            "--------------------------------------------------------------------------------\n",
            "<class 'surprise.prediction_algorithms.knns.KNNBasic'>\n",
            "Computing the cosine similarity matrix...\n",
            "Done computing similarity matrix.\n",
            "Computing the cosine similarity matrix...\n",
            "Done computing similarity matrix.\n",
            "Computing the cosine similarity matrix...\n",
            "Done computing similarity matrix.\n",
            "Computing the cosine similarity matrix...\n",
            "Done computing similarity matrix.\n",
            "Computing the cosine similarity matrix...\n",
            "Done computing similarity matrix.\n",
            "{'test_rmse': array([0.97208236, 0.96563596, 0.97413364, 0.96674314, 0.97233917]), 'fit_time': (0.13263225555419922, 0.16117525100708008, 0.15923428535461426, 0.16313838958740234, 0.1588151454925537), 'test_time': (2.0583882331848145, 3.032357692718506, 2.058701276779175, 1.91253662109375, 2.0973763465881348)}\n",
            "--------------------------------------------------------------------------------\n",
            "<class 'surprise.prediction_algorithms.knns.KNNWithZScore'>\n",
            "Computing the cosine similarity matrix...\n",
            "Done computing similarity matrix.\n",
            "Computing the cosine similarity matrix...\n",
            "Done computing similarity matrix.\n",
            "Computing the cosine similarity matrix...\n",
            "Done computing similarity matrix.\n",
            "Computing the cosine similarity matrix...\n",
            "Done computing similarity matrix.\n",
            "Computing the cosine similarity matrix...\n",
            "Done computing similarity matrix.\n",
            "{'test_rmse': array([0.89695701, 0.89656464, 0.89421838, 0.89484813, 0.88723373]), 'fit_time': (0.30747127532958984, 0.4992079734802246, 0.3230264186859131, 0.3194732666015625, 0.8591358661651611), 'test_time': (2.709167003631592, 3.8472633361816406, 2.3413453102111816, 2.5045907497406006, 4.918288469314575)}\n",
            "--------------------------------------------------------------------------------\n",
            "<class 'surprise.prediction_algorithms.knns.KNNBaseline'>\n",
            "Estimating biases using als...\n",
            "Computing the cosine similarity matrix...\n",
            "Done computing similarity matrix.\n",
            "Estimating biases using als...\n",
            "Computing the cosine similarity matrix...\n",
            "Done computing similarity matrix.\n",
            "Estimating biases using als...\n",
            "Computing the cosine similarity matrix...\n",
            "Done computing similarity matrix.\n",
            "Estimating biases using als...\n",
            "Computing the cosine similarity matrix...\n",
            "Done computing similarity matrix.\n",
            "Estimating biases using als...\n",
            "Computing the cosine similarity matrix...\n",
            "Done computing similarity matrix.\n",
            "{'test_rmse': array([0.8680764 , 0.86837216, 0.87630418, 0.86429948, 0.86870317]), 'fit_time': (0.5060858726501465, 0.5349931716918945, 0.5434536933898926, 0.6533203125, 0.554288387298584), 'test_time': (2.440687656402588, 2.5612571239471436, 3.1038336753845215, 2.6946613788604736, 2.42463755607605)}\n",
            "--------------------------------------------------------------------------------\n"
          ]
        }
      ]
    },
    {
      "cell_type": "markdown",
      "source": [
        "## KNNBaseline алгоритм показал нужный результат, но все равно ошибка очень большая"
      ],
      "metadata": {
        "id": "OjuRk2t7nORM"
      }
    },
    {
      "cell_type": "code",
      "source": [
        "knn_baseline(data, algo, params_2)"
      ],
      "metadata": {
        "colab": {
          "base_uri": "https://localhost:8080/"
        },
        "id": "lKjEpQDdmQqA",
        "outputId": "5b3ec438-bb16-4b31-8a72-211c563d16b0"
      },
      "execution_count": null,
      "outputs": [
        {
          "output_type": "stream",
          "name": "stdout",
          "text": [
            "<class 'surprise.prediction_algorithms.knns.KNNWithMeans'>\n",
            "Computing the cosine similarity matrix...\n",
            "Done computing similarity matrix.\n",
            "Computing the cosine similarity matrix...\n",
            "Done computing similarity matrix.\n",
            "Computing the cosine similarity matrix...\n",
            "Done computing similarity matrix.\n",
            "Computing the cosine similarity matrix...\n",
            "Done computing similarity matrix.\n",
            "Computing the cosine similarity matrix...\n",
            "Done computing similarity matrix.\n",
            "{'test_rmse': array([0.90318356, 0.90962903, 0.89294488, 0.90474772, 0.89731849]), 'fit_time': (7.909477949142456, 9.631837368011475, 7.519832372665405, 6.874406814575195, 6.862316370010376), 'test_time': (17.283974409103394, 14.561537504196167, 13.278869390487671, 14.538656949996948, 13.201172113418579)}\n",
            "--------------------------------------------------------------------------------\n",
            "<class 'surprise.prediction_algorithms.knns.KNNBasic'>\n",
            "Computing the cosine similarity matrix...\n",
            "Done computing similarity matrix.\n",
            "Computing the cosine similarity matrix...\n",
            "Done computing similarity matrix.\n",
            "Computing the cosine similarity matrix...\n",
            "Done computing similarity matrix.\n",
            "Computing the cosine similarity matrix...\n",
            "Done computing similarity matrix.\n",
            "Computing the cosine similarity matrix...\n",
            "Done computing similarity matrix.\n",
            "{'test_rmse': array([0.9658863 , 0.97811072, 0.96650256, 0.97727061, 0.9744888 ]), 'fit_time': (7.285387992858887, 6.618809700012207, 6.965250492095947, 7.2429375648498535, 6.987462520599365), 'test_time': (13.102091312408447, 13.077881813049316, 13.107577562332153, 12.992012739181519, 13.479177236557007)}\n",
            "--------------------------------------------------------------------------------\n",
            "<class 'surprise.prediction_algorithms.knns.KNNWithZScore'>\n",
            "Computing the cosine similarity matrix...\n",
            "Done computing similarity matrix.\n",
            "Computing the cosine similarity matrix...\n",
            "Done computing similarity matrix.\n",
            "Computing the cosine similarity matrix...\n",
            "Done computing similarity matrix.\n",
            "Computing the cosine similarity matrix...\n",
            "Done computing similarity matrix.\n",
            "Computing the cosine similarity matrix...\n",
            "Done computing similarity matrix.\n",
            "{'test_rmse': array([0.90588801, 0.90710649, 0.90907279, 0.9090653 , 0.9115445 ]), 'fit_time': (7.606475353240967, 7.713273525238037, 7.45190167427063, 7.1549952030181885, 7.645677328109741), 'test_time': (13.39786982536316, 13.577668190002441, 14.451578617095947, 13.496350526809692, 13.775669574737549)}\n",
            "--------------------------------------------------------------------------------\n",
            "<class 'surprise.prediction_algorithms.knns.KNNBaseline'>\n",
            "Estimating biases using als...\n",
            "Computing the cosine similarity matrix...\n",
            "Done computing similarity matrix.\n",
            "Estimating biases using als...\n",
            "Computing the cosine similarity matrix...\n",
            "Done computing similarity matrix.\n",
            "Estimating biases using als...\n",
            "Computing the cosine similarity matrix...\n",
            "Done computing similarity matrix.\n",
            "Estimating biases using als...\n",
            "Computing the cosine similarity matrix...\n",
            "Done computing similarity matrix.\n",
            "Estimating biases using als...\n",
            "Computing the cosine similarity matrix...\n",
            "Done computing similarity matrix.\n",
            "{'test_rmse': array([0.89327111, 0.882118  , 0.88613724, 0.88842852, 0.88759485]), 'fit_time': (7.631107568740845, 7.032811880111694, 7.134547710418701, 7.3761537075042725, 7.542893886566162), 'test_time': (14.082556962966919, 16.515990257263184, 14.087433099746704, 14.155160903930664, 14.17501425743103)}\n",
            "--------------------------------------------------------------------------------\n"
          ]
        }
      ]
    },
    {
      "cell_type": "code",
      "source": [],
      "metadata": {
        "id": "P2PUyBNonCMG"
      },
      "execution_count": null,
      "outputs": []
    }
  ]
}